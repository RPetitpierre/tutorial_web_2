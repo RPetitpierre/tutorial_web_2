{
 "cells": [
  {
   "cell_type": "code",
   "execution_count": null,
   "metadata": {},
   "outputs": [],
   "source": [
    "from sklearn.decomposition import LatentDirichletAllocation\n",
    "import pandas as pd\n",
    "import numpy as np"
   ]
  },
  {
   "cell_type": "code",
   "execution_count": null,
   "metadata": {},
   "outputs": [],
   "source": [
    "# Charger les données et ne conserver que les lignes où la liste des mots-clés n'est pas nulle\n",
    "df = pd.read_excel('data_MHL.xlsx', index_col='Unnamed: 0').reset_index(drop=True)\n",
    "df = df.dropna(subset=['Mots-clés principaux : ', 'Mots-clés secondaires : '])\n",
    "\n",
    "# Faire la liste des mots-clés apparaissant à chaque ligne\n",
    "keywords, all_kw = [], []\n",
    "for i, row in df.iterrows():\n",
    "    kw = []\n",
    "    for key in ['Mots-clés principaux : ', 'Mots-clés secondaires : ']:\n",
    "        kw += row[key].split(', ')\n",
    "    all_kw += kw\n",
    "    keywords.append(kw)\n",
    "    \n",
    "# Ordonner les mots-clés présents au moins 3 fois dans le dataset dans un tableau numéroté\n",
    "one_hot_labels = pd.Series(np.array(all_kw)).value_counts()\n",
    "one_hot_labels = one_hot_labels[one_hot_labels >= 3].keys()"
   ]
  },
  {
   "cell_type": "code",
   "execution_count": null,
   "metadata": {},
   "outputs": [],
   "source": [
    "# Encoder chaque entité dans une vecteur binaire (one-hot encoding)\n",
    "one_hot = np.zeros((len(keywords), len(one_hot_labels)))\n",
    "for i, list_kw in tqdm.tqdm(enumerate(keywords)):\n",
    "    for kw in list_kw:\n",
    "        one_hot[i][int(np.argmax(one_hot_labels == kw))] = 1"
   ]
  },
  {
   "cell_type": "code",
   "execution_count": null,
   "metadata": {},
   "outputs": [],
   "source": [
    "# Algorithme de Latent Dirichlet allocation\n",
    "lda = LatentDirichletAllocation(n_components=8, random_state=0)\n",
    "res = lda.fit_transform(one_hot)\n",
    "\n",
    "# Afficher la perplexité\n",
    "print(lda.perplexity(one_hot))\n",
    "\n",
    "# Evaluer les thèmes pour chaque mot-clé unique\n",
    "kw_class = lda.transform(np.identity(len(one_hot_labels)))\n",
    "\n",
    "# Afficher la répartition des images par thème\n",
    "pd.Series(np.argmax(res, axis=1)).value_counts().sort_index()/(0.01*len(df))"
   ]
  },
  {
   "cell_type": "code",
   "execution_count": null,
   "metadata": {},
   "outputs": [],
   "source": [
    "# Afficher le top 10 des tags les plus spécifiques à chaque thème\n",
    "for j in range(8):\n",
    "    print('Thème', j)\n",
    "    for l in one_hot_labels[np.flip(np.argsort(kw_class[:, j]))[:10]]:\n",
    "        print(l.capitalize())"
   ]
  },
  {
   "cell_type": "code",
   "execution_count": null,
   "metadata": {},
   "outputs": [],
   "source": [
    "# Afficher (si disponible) l'url du top 10 des images les plus spécifiques à chaque thème\n",
    "for j in np.flip(np.argsort(res[:,7])[-10:]):\n",
    "    url = df['image_url'][df.index[j]]\n",
    "    if type(url) == str:\n",
    "        print(url)"
   ]
  },
  {
   "cell_type": "code",
   "execution_count": null,
   "metadata": {},
   "outputs": [],
   "source": []
  },
  {
   "cell_type": "code",
   "execution_count": null,
   "metadata": {},
   "outputs": [],
   "source": []
  },
  {
   "cell_type": "code",
   "execution_count": null,
   "metadata": {},
   "outputs": [],
   "source": []
  }
 ],
 "metadata": {
  "kernelspec": {
   "display_name": "Python 3",
   "language": "python",
   "name": "python3"
  },
  "language_info": {
   "codemirror_mode": {
    "name": "ipython",
    "version": 3
   },
   "file_extension": ".py",
   "mimetype": "text/x-python",
   "name": "python",
   "nbconvert_exporter": "python",
   "pygments_lexer": "ipython3",
   "version": "3.8.3"
  }
 },
 "nbformat": 4,
 "nbformat_minor": 4
}
